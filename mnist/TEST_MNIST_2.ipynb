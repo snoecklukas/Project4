{
 "cells": [
  {
   "cell_type": "code",
   "execution_count": 11,
   "metadata": {},
   "outputs": [],
   "source": [
    "import matplotlib.pyplot as plt\n",
    "import matplotlib.image as mpimg\n",
    "import json\n",
    "import sys\n",
    "import os\n",
    "import time\n",
    "import numpy as np\n",
    "import cv2\n",
    "import onnx\n",
    "import onnxruntime\n",
    "from onnx import numpy_helper"
   ]
  },
  {
   "cell_type": "code",
   "execution_count": 35,
   "metadata": {},
   "outputs": [],
   "source": [
    "model_dir =\"Digits\"\n",
    "model=\"model.onnx\"\n",
    "path=sys.argv[1]"
   ]
  },
  {
   "cell_type": "code",
   "execution_count": 8,
   "metadata": {},
   "outputs": [
    {
     "name": "stdout",
     "output_type": "stream",
     "text": [
      "img_3.jpg\n",
      "model.onnx\n",
      "Test_MNIST_1.ipynb\n",
      "TEST_MNIST_2.ipynb\n"
     ]
    }
   ],
   "source": [
    "files = [f for f in os.listdir('.') if os.path.isfile(f)]\n",
    "for f in files:\n",
    "    print(f)"
   ]
  },
  {
   "cell_type": "markdown",
   "metadata": {},
   "source": [
    "Inlezen afbeelding en omzetten naar een 28x28 array in grayscale."
   ]
  },
  {
   "cell_type": "code",
   "execution_count": 59,
   "metadata": {},
   "outputs": [
    {
     "data": {
      "image/png": "[encoded data removed]",
      "text/plain": [
       "<Figure size 432x288 with 1 Axes>"
      ]
     },
     "metadata": {
      "needs_background": "light"
     },
     "output_type": "display_data"
    }
   ],
   "source": [
    "#Preprocess the image\n",
    "img = cv2.imread(f\"{model_dir}/digit_5.jpg\")\n",
    "imgplot = plt.imshow(img)\n",
    "plt.show()"
   ]
  },
  {
   "cell_type": "code",
   "execution_count": 60,
   "metadata": {},
   "outputs": [],
   "source": [
    "img = np.dot(img[...,:3], [0.299, 0.587, 0.114])\n",
    "img = cv2.resize(img, dsize=(28, 28), interpolation=cv2.INTER_AREA)\n",
    "img.resize((1, 1, 28, 28))\n",
    "#imgplot = plt.imshow(img)\n",
    "#plt.show()"
   ]
  },
  {
   "cell_type": "markdown",
   "metadata": {},
   "source": [
    "Afbeelding naar numpy array van type float32"
   ]
  },
  {
   "cell_type": "code",
   "execution_count": 61,
   "metadata": {},
   "outputs": [],
   "source": [
    "data = json.dumps({'data': img.tolist()})\n",
    "data = np.array(json.loads(data)['data']).astype('float32')"
   ]
  },
  {
   "cell_type": "markdown",
   "metadata": {},
   "source": [
    "Data aan model geven voor interference."
   ]
  },
  {
   "cell_type": "code",
   "execution_count": 62,
   "metadata": {},
   "outputs": [
    {
     "name": "stdout",
     "output_type": "stream",
     "text": [
      "Input3\n",
      "Plus214_Output_0\n"
     ]
    }
   ],
   "source": [
    "data = json.dumps({'data': img.tolist()})\n",
    "data = np.array(json.loads(data)['data']).astype('float32')\n",
    "session = onnxruntime.InferenceSession(model, None)\n",
    "input_name = session.get_inputs()[0].name\n",
    "output_name = session.get_outputs()[0].name\n",
    "print(input_name)\n",
    "print(output_name)"
   ]
  },
  {
   "cell_type": "code",
   "execution_count": 63,
   "metadata": {},
   "outputs": [
    {
     "name": "stdout",
     "output_type": "stream",
     "text": [
      "2\n"
     ]
    }
   ],
   "source": [
    "result = session.run([output_name], {input_name: data})\n",
    "prediction=int(np.argmax(np.array(result).squeeze(), axis=0))\n",
    "print(prediction)"
   ]
  },
  {
   "cell_type": "code",
   "execution_count": 64,
   "metadata": {},
   "outputs": [
    {
     "name": "stdout",
     "output_type": "stream",
     "text": [
      "[ 4.2750336e+02  2.9196637e+02  1.5649940e+03 -4.5983096e+02\n",
      " -8.0361981e+02 -4.6489709e+02 -2.0914805e+03 -7.3597076e+02\n",
      "  8.6337610e+02  4.6279982e-01]\n"
     ]
    }
   ],
   "source": [
    "print(np.array(result).squeeze())"
   ]
  },
  {
   "cell_type": "code",
   "execution_count": null,
   "metadata": {},
   "outputs": [],
   "source": []
  }
 ],
 "metadata": {
  "kernelspec": {
   "display_name": "Python 3",
   "language": "python",
   "name": "python3"
  },
  "language_info": {
   "codemirror_mode": {
    "name": "ipython",
    "version": 3
   },
   "file_extension": ".py",
   "mimetype": "text/x-python",
   "name": "python",
   "nbconvert_exporter": "python",
   "pygments_lexer": "ipython3",
   "version": "3.8.0"
  }
 },
 "nbformat": 4,
 "nbformat_minor": 4
}

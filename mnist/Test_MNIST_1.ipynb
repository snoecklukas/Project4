{
 "cells": [
  {
   "cell_type": "code",
   "execution_count": 10,
   "metadata": {},
   "outputs": [
    {
     "ename": "AssertionError",
     "evalue": "\nArrays are not almost equal to 7 decimals\n\nMismatched elements: 6 / 10 (60%)\nMax absolute difference: 0.00024414\nMax relative difference: 3.6546427e-07\n x: array([[  975.6701  ,  -618.72394 ,  6574.5684  ,   668.02893 ,\n         -917.27094 , -1671.6359  , -1952.7599  ,   -61.549873,\n         -777.17664 , -1439.5316  ]], dtype=float32)\n y: array([[  975.6702  ,  -618.72394 ,  6574.5684  ,   668.0287  ,\n         -917.27106 , -1671.6359  , -1952.76    ,   -61.549862,\n         -777.17645 , -1439.5316  ]], dtype=float32)",
     "output_type": "error",
     "traceback": [
      "\u001b[1;31m---------------------------------------------------------------------------\u001b[0m",
      "\u001b[1;31mAssertionError\u001b[0m                            Traceback (most recent call last)",
      "\u001b[1;32m<ipython-input-10-758c9b54d26d>\u001b[0m in \u001b[0;36m<module>\u001b[1;34m\u001b[0m\n\u001b[0;32m     35\u001b[0m \u001b[1;31m# Compare the results with reference outputs.\u001b[0m\u001b[1;33m\u001b[0m\u001b[1;33m\u001b[0m\u001b[1;33m\u001b[0m\u001b[0m\n\u001b[0;32m     36\u001b[0m \u001b[1;32mfor\u001b[0m \u001b[0mref_o\u001b[0m\u001b[1;33m,\u001b[0m \u001b[0mo\u001b[0m \u001b[1;32min\u001b[0m \u001b[0mzip\u001b[0m\u001b[1;33m(\u001b[0m\u001b[0mref_outputs\u001b[0m\u001b[1;33m,\u001b[0m \u001b[0moutputs\u001b[0m\u001b[1;33m)\u001b[0m\u001b[1;33m:\u001b[0m\u001b[1;33m\u001b[0m\u001b[1;33m\u001b[0m\u001b[0m\n\u001b[1;32m---> 37\u001b[1;33m     \u001b[0mnp\u001b[0m\u001b[1;33m.\u001b[0m\u001b[0mtesting\u001b[0m\u001b[1;33m.\u001b[0m\u001b[0massert_almost_equal\u001b[0m\u001b[1;33m(\u001b[0m\u001b[0mref_o\u001b[0m\u001b[1;33m,\u001b[0m \u001b[0mo\u001b[0m\u001b[1;33m,\u001b[0m \u001b[0mdecimal\u001b[0m \u001b[1;33m=\u001b[0m \u001b[1;36m7\u001b[0m\u001b[1;33m)\u001b[0m\u001b[1;33m\u001b[0m\u001b[1;33m\u001b[0m\u001b[0m\n\u001b[0m",
      "    \u001b[1;31m[... skipping hidden 3 frame]\u001b[0m\n",
      "\u001b[1;31mAssertionError\u001b[0m: \nArrays are not almost equal to 7 decimals\n\nMismatched elements: 6 / 10 (60%)\nMax absolute difference: 0.00024414\nMax relative difference: 3.6546427e-07\n x: array([[  975.6701  ,  -618.72394 ,  6574.5684  ,   668.02893 ,\n         -917.27094 , -1671.6359  , -1952.7599  ,   -61.549873,\n         -777.17664 , -1439.5316  ]], dtype=float32)\n y: array([[  975.6702  ,  -618.72394 ,  6574.5684  ,   668.0287  ,\n         -917.27106 , -1671.6359  , -1952.76    ,   -61.549862,\n         -777.17645 , -1439.5316  ]], dtype=float32)"
     ]
    }
   ],
   "source": [
    "import numpy as np\n",
    "import onnx\n",
    "import os\n",
    "import glob\n",
    "import onnxruntime.backend as backend\n",
    "\n",
    "from onnx import numpy_helper\n",
    "\n",
    "model = onnx.load('model.onnx')\n",
    "test_data_dir = 'test_data_set_0'\n",
    "\n",
    "# Load inputs\n",
    "inputs = []\n",
    "inputs_num = len(glob.glob(os.path.join(test_data_dir, 'input_*.pb')))\n",
    "for i in range(inputs_num):\n",
    "    input_file = os.path.join(test_data_dir, 'input_{}.pb'.format(i))\n",
    "    tensor = onnx.TensorProto()\n",
    "    with open(input_file, 'rb') as f:\n",
    "        tensor.ParseFromString(f.read())\n",
    "    inputs.append(numpy_helper.to_array(tensor))\n",
    "\n",
    "# Load reference outputs\n",
    "ref_outputs = []\n",
    "ref_outputs_num = len(glob.glob(os.path.join(test_data_dir, 'output_*.pb')))\n",
    "for i in range(ref_outputs_num):\n",
    "    output_file = os.path.join(test_data_dir, 'output_{}.pb'.format(i))\n",
    "    tensor = onnx.TensorProto()\n",
    "    with open(output_file, 'rb') as f:\n",
    "        tensor.ParseFromString(f.read())\n",
    "    ref_outputs.append(numpy_helper.to_array(tensor))\n",
    "\n",
    "# Run the model on the backend\n",
    "outputs = list(backend.run(model, inputs))\n",
    "\n",
    "# Compare the results with reference outputs.\n",
    "for ref_o, o in zip(ref_outputs, outputs):\n",
    "    np.testing.assert_almost_equal(ref_o, o, decimal = 7)"
   ]
  },
  {
   "cell_type": "code",
   "execution_count": 4,
   "metadata": {},
   "outputs": [
    {
     "ename": "AssertionError",
     "evalue": "\nNot equal to tolerance rtol=1e-07, atol=0\n\nMismatched elements: 5 / 10 (50%)\nMax absolute difference: 0.00024414\nMax relative difference: 3.6546427e-07\n x: array([[  975.6701  ,  -618.72394 ,  6574.5684  ,   668.02893 ,\n         -917.27094 , -1671.6359  , -1952.7599  ,   -61.549873,\n         -777.17664 , -1439.5316  ]], dtype=float32)\n y: array([[  975.6702  ,  -618.72394 ,  6574.5684  ,   668.0287  ,\n         -917.27106 , -1671.6359  , -1952.76    ,   -61.549862,\n         -777.17645 , -1439.5316  ]], dtype=float32)",
     "output_type": "error",
     "traceback": [
      "\u001b[1;31m---------------------------------------------------------------------------\u001b[0m",
      "\u001b[1;31mAssertionError\u001b[0m                            Traceback (most recent call last)",
      "\u001b[1;32m<ipython-input-4-94ddd49adf05>\u001b[0m in \u001b[0;36m<module>\u001b[1;34m\u001b[0m\n\u001b[0;32m      1\u001b[0m \u001b[1;31m# Compare the results with reference outputs.\u001b[0m\u001b[1;33m\u001b[0m\u001b[1;33m\u001b[0m\u001b[1;33m\u001b[0m\u001b[0m\n\u001b[0;32m      2\u001b[0m \u001b[1;32mfor\u001b[0m \u001b[0mref_o\u001b[0m\u001b[1;33m,\u001b[0m \u001b[0mo\u001b[0m \u001b[1;32min\u001b[0m \u001b[0mzip\u001b[0m\u001b[1;33m(\u001b[0m\u001b[0mref_outputs\u001b[0m\u001b[1;33m,\u001b[0m \u001b[0moutputs\u001b[0m\u001b[1;33m)\u001b[0m\u001b[1;33m:\u001b[0m\u001b[1;33m\u001b[0m\u001b[1;33m\u001b[0m\u001b[0m\n\u001b[1;32m----> 3\u001b[1;33m     \u001b[0mnp\u001b[0m\u001b[1;33m.\u001b[0m\u001b[0mtesting\u001b[0m\u001b[1;33m.\u001b[0m\u001b[0massert_allclose\u001b[0m\u001b[1;33m(\u001b[0m\u001b[0mref_o\u001b[0m\u001b[1;33m,\u001b[0m \u001b[0mo\u001b[0m\u001b[1;33m)\u001b[0m\u001b[1;33m\u001b[0m\u001b[1;33m\u001b[0m\u001b[0m\n\u001b[0m",
      "    \u001b[1;31m[... skipping hidden 2 frame]\u001b[0m\n",
      "\u001b[1;31mAssertionError\u001b[0m: \nNot equal to tolerance rtol=1e-07, atol=0\n\nMismatched elements: 5 / 10 (50%)\nMax absolute difference: 0.00024414\nMax relative difference: 3.6546427e-07\n x: array([[  975.6701  ,  -618.72394 ,  6574.5684  ,   668.02893 ,\n         -917.27094 , -1671.6359  , -1952.7599  ,   -61.549873,\n         -777.17664 , -1439.5316  ]], dtype=float32)\n y: array([[  975.6702  ,  -618.72394 ,  6574.5684  ,   668.0287  ,\n         -917.27106 , -1671.6359  , -1952.76    ,   -61.549862,\n         -777.17645 , -1439.5316  ]], dtype=float32)"
     ]
    }
   ],
   "source": [
    "# Compare the results with reference outputs.\n",
    "for ref_o, o in zip(ref_outputs, outputs):\n",
    "    np.testing.assert_allclose(ref_o, o)"
   ]
  },
  {
   "cell_type": "code",
   "execution_count": 11,
   "metadata": {},
   "outputs": [
    {
     "name": "stdout",
     "output_type": "stream",
     "text": [
      "[array([[  975.6702  ,  -618.72394 ,  6574.5684  ,   668.0287  ,\n",
      "         -917.27106 , -1671.6359  , -1952.76    ,   -61.549862,\n",
      "         -777.17645 , -1439.5316  ]], dtype=float32)]\n"
     ]
    }
   ],
   "source": [
    "print(outputs)"
   ]
  }
 ],
 "metadata": {
  "kernelspec": {
   "display_name": "Python 3",
   "language": "python",
   "name": "python3"
  },
  "language_info": {
   "codemirror_mode": {
    "name": "ipython",
    "version": 3
   },
   "file_extension": ".py",
   "mimetype": "text/x-python",
   "name": "python",
   "nbconvert_exporter": "python",
   "pygments_lexer": "ipython3",
   "version": "3.8.0"
  }
 },
 "nbformat": 4,
 "nbformat_minor": 4
}

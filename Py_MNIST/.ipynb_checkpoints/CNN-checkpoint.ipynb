{
 "cells": [
  {
   "cell_type": "code",
   "execution_count": 69,
   "metadata": {},
   "outputs": [],
   "source": [
    "import numpy as np \n",
    "import pandas as pd \n",
    "import matplotlib.pyplot as plt\n",
    "import seaborn as sns\n",
    "import os\n",
    "from sklearn.preprocessing import MinMaxScaler\n",
    "import tensorflow as tf\n",
    "from keras.models import Sequential\n",
    "from keras.layers import Dense\n",
    "from keras.layers import Dropout\n",
    "from keras.layers import Flatten\n",
    "from keras.layers.convolutional import Conv2D\n",
    "from keras.layers.convolutional import MaxPooling2D\n",
    "from keras import backend as K\n",
    "from keras.utils import np_utils\n",
    "from sklearn.model_selection import train_test_split\n",
    "from sklearn.metrics import confusion_matrix\n",
    "from tensorflow.keras.utils import to_categorical\n",
    "\n",
    "from keras.callbacks import EarlyStopping, ModelCheckpoint\n",
    "from keras.preprocessing.image import ImageDataGenerator\n",
    "\n",
    "#ignore warning messages \n",
    "# import warnings\n",
    "# warnings.filterwarnings('ignore') \n",
    "\n",
    "# sns.set()\n",
    "\n",
    "###### Voor Tensorflow-GPU ########\n",
    "\n",
    "physical_devices = tf.config.experimental.list_physical_devices('GPU')\n",
    "tf.config.experimental.set_memory_growth(physical_devices[0], True)"
   ]
  },
  {
   "cell_type": "code",
   "execution_count": 49,
   "metadata": {},
   "outputs": [],
   "source": [
    "# Load the data\n",
    "train = pd.read_csv(\"Data/train.csv\")\n",
    "test = pd.read_csv(\"Data/test.csv\")"
   ]
  },
  {
   "cell_type": "code",
   "execution_count": 50,
   "metadata": {},
   "outputs": [],
   "source": [
    "Y_train = train[\"label\"]\n",
    "Y_test = test[\"label\"]\n",
    "\n",
    "# Drop 'label' column\n",
    "X_train = train.drop(labels = [\"label\"],axis = 1) \n",
    "X_test = test.drop(labels = [\"label\"],axis = 1) \n",
    "\n",
    "# free some space\n",
    "del train \n",
    "del test"
   ]
  },
  {
   "cell_type": "code",
   "execution_count": 51,
   "metadata": {},
   "outputs": [],
   "source": [
    "# Normalize the data\n",
    "X_train = X_train / 255.0\n",
    "X_test = X_test / 255.0"
   ]
  },
  {
   "cell_type": "code",
   "execution_count": 52,
   "metadata": {},
   "outputs": [],
   "source": [
    "# Reshape image in 3 dimensions (height = 28px, width = 28px , channel = 1)\n",
    "X_train = X_train.values.reshape(-1,28,28,1)\n",
    "X_test = X_test.values.reshape(-1,28,28,1)"
   ]
  },
  {
   "cell_type": "code",
   "execution_count": 53,
   "metadata": {},
   "outputs": [],
   "source": [
    "# Encode labels to one hot vectors (ex : 2 -> [0,0,1,0,0,0,0,0,0,0])\n",
    "Y_train = to_categorical(Y_train, num_classes = 10)\n",
    "Y_test = to_categorical(Y_test, num_classes = 10)"
   ]
  },
  {
   "cell_type": "code",
   "execution_count": 54,
   "metadata": {},
   "outputs": [],
   "source": [
    "# Split the train and the validation set for the fitting\n",
    "# X_train, X_val, Y_train, Y_val = train_test_split(X_train, Y_train, test_size = 0.1, random_state=0)"
   ]
  },
  {
   "cell_type": "code",
   "execution_count": 57,
   "metadata": {},
   "outputs": [
    {
     "data": {
      "image/png": "[encoded data removed]",
      "text/plain": [
       "<Figure size 432x288 with 1 Axes>"
      ]
     },
     "metadata": {
      "needs_background": "light"
     },
     "output_type": "display_data"
    }
   ],
   "source": [
    "g = plt.imshow(X_train[2], cmap=\"gray\")"
   ]
  },
  {
   "cell_type": "code",
   "execution_count": 87,
   "metadata": {},
   "outputs": [
    {
     "name": "stdout",
     "output_type": "stream",
     "text": [
      "(28, 28, 1)\n"
     ]
    }
   ],
   "source": [
    "print(X_train[2].shape)"
   ]
  },
  {
   "cell_type": "code",
   "execution_count": 118,
   "metadata": {},
   "outputs": [],
   "source": [
    "# Set the CNN model \n",
    "# my CNN architechture is In -> [[Conv2D->relu]*2 -> MaxPool2D -> Dropout]*2 -> Flatten -> Dense -> Dropout -> Out\n",
    "\n",
    "model = Sequential(name=\"mnist_model\")\n",
    "\n",
    "model.add(Conv2D(filters = 32, kernel_size = (5,5),padding = 'Same', \n",
    "                 activation ='relu', input_shape = (28,28,1), name=\"mnist_input\"))\n",
    "model.add(Conv2D(filters = 32, kernel_size = (5,5),padding = 'Same', \n",
    "                 activation ='relu'))\n",
    "model.add(MaxPooling2D(pool_size=(2,2)))\n",
    "model.add(Dropout(0.25))\n",
    "\n",
    "\n",
    "model.add(Conv2D(filters = 64, kernel_size = (3,3),padding = 'Same', \n",
    "                 activation ='relu'))\n",
    "model.add(Conv2D(filters = 64, kernel_size = (3,3),padding = 'Same', \n",
    "                 activation ='relu'))\n",
    "model.add(MaxPooling2D(pool_size=(2,2), strides=(2,2)))\n",
    "model.add(Dropout(0.25))\n",
    "\n",
    "\n",
    "model.add(Flatten())\n",
    "model.add(Dense(256, activation = \"relu\"))\n",
    "model.add(Dropout(0.5))\n",
    "model.add(Dense(10, activation = \"softmax\", name=\"mnist_output\"))"
   ]
  },
  {
   "cell_type": "code",
   "execution_count": 119,
   "metadata": {},
   "outputs": [],
   "source": [
    "# Define the optimizer\n",
    "# optimizer = RMSprop(lr=0.001, rho=0.9, epsilon=1e-08, decay=0.0)"
   ]
  },
  {
   "cell_type": "code",
   "execution_count": 120,
   "metadata": {},
   "outputs": [
    {
     "name": "stdout",
     "output_type": "stream",
     "text": [
      "Model: \"mnist_model\"\n",
      "_________________________________________________________________\n",
      "Layer (type)                 Output Shape              Param #   \n",
      "=================================================================\n",
      "mnist_input (Conv2D)         (None, 28, 28, 32)        832       \n",
      "_________________________________________________________________\n",
      "conv2d_6 (Conv2D)            (None, 28, 28, 32)        25632     \n",
      "_________________________________________________________________\n",
      "max_pooling2d_2 (MaxPooling2 (None, 14, 14, 32)        0         \n",
      "_________________________________________________________________\n",
      "dropout_3 (Dropout)          (None, 14, 14, 32)        0         \n",
      "_________________________________________________________________\n",
      "conv2d_7 (Conv2D)            (None, 14, 14, 64)        18496     \n",
      "_________________________________________________________________\n",
      "conv2d_8 (Conv2D)            (None, 14, 14, 64)        36928     \n",
      "_________________________________________________________________\n",
      "max_pooling2d_3 (MaxPooling2 (None, 7, 7, 64)          0         \n",
      "_________________________________________________________________\n",
      "dropout_4 (Dropout)          (None, 7, 7, 64)          0         \n",
      "_________________________________________________________________\n",
      "flatten_1 (Flatten)          (None, 3136)              0         \n",
      "_________________________________________________________________\n",
      "dense_2 (Dense)              (None, 256)               803072    \n",
      "_________________________________________________________________\n",
      "dropout_5 (Dropout)          (None, 256)               0         \n",
      "_________________________________________________________________\n",
      "mnist_output (Dense)         (None, 10)                2570      \n",
      "=================================================================\n",
      "Total params: 887,530\n",
      "Trainable params: 887,530\n",
      "Non-trainable params: 0\n",
      "_________________________________________________________________\n"
     ]
    }
   ],
   "source": [
    "# Compile the model\n",
    "model.compile(optimizer = \"adam\" , loss = \"categorical_crossentropy\", metrics=[\"accuracy\"])\n",
    "model.summary()"
   ]
  },
  {
   "cell_type": "code",
   "execution_count": 121,
   "metadata": {},
   "outputs": [],
   "source": [
    "# Set a learning rate annealer\n",
    "# learning_rate_reduction = ReduceLROnPlateau(monitor='val_acc', \n",
    "#                                             patience=3, \n",
    "#                                             verbose=1, \n",
    "#                                             factor=0.5, \n",
    "#                                             min_lr=0.00001)"
   ]
  },
  {
   "cell_type": "code",
   "execution_count": 122,
   "metadata": {},
   "outputs": [],
   "source": [
    "earlystopper = EarlyStopping(patience=5, verbose=1)\n",
    "epochs = 100 # Turn epochs to 30 to get 0.9967 accuracy\n",
    "batch_size = 32"
   ]
  },
  {
   "cell_type": "code",
   "execution_count": 123,
   "metadata": {},
   "outputs": [],
   "source": [
    "# Without data augmentation i obtained an accuracy of 0.98114\n",
    "#history = model.fit(X_train, Y_train, batch_size = batch_size, epochs = epochs, \n",
    "#          validation_data = (X_val, Y_val), verbose = 2)"
   ]
  },
  {
   "cell_type": "code",
   "execution_count": 124,
   "metadata": {},
   "outputs": [],
   "source": [
    "# With data augmentation to prevent overfitting (accuracy 0.99286)\n",
    "\n",
    "datagen = ImageDataGenerator(\n",
    "        featurewise_center=False,  # set input mean to 0 over the dataset\n",
    "        samplewise_center=False,  # set each sample mean to 0\n",
    "        featurewise_std_normalization=False,  # divide inputs by std of the dataset\n",
    "        samplewise_std_normalization=False,  # divide each input by its std\n",
    "        zca_whitening=False,  # apply ZCA whitening\n",
    "        rotation_range=10,  # randomly rotate images in the range (degrees, 0 to 180)\n",
    "        zoom_range = 0.1, # Randomly zoom image \n",
    "        width_shift_range=0.1,  # randomly shift images horizontally (fraction of total width)\n",
    "        height_shift_range=0.1,  # randomly shift images vertically (fraction of total height)\n",
    "        horizontal_flip=False,  # randomly flip images\n",
    "        vertical_flip=False)  # randomly flip images\n",
    "\n",
    "\n",
    "datagen.fit(X_train)"
   ]
  },
  {
   "cell_type": "code",
   "execution_count": 125,
   "metadata": {
    "scrolled": true
   },
   "outputs": [
    {
     "name": "stdout",
     "output_type": "stream",
     "text": [
      "Epoch 1/100\n",
      "938/938 [==============================] - 12s 13ms/step - loss: 0.3861 - accuracy: 0.8761 - val_loss: 0.0835 - val_accuracy: 0.9715\n",
      "Epoch 2/100\n",
      "938/938 [==============================] - 11s 12ms/step - loss: 0.1438 - accuracy: 0.9573 - val_loss: 0.0442 - val_accuracy: 0.9857\n",
      "Epoch 3/100\n",
      "938/938 [==============================] - 11s 12ms/step - loss: 0.1039 - accuracy: 0.9699 - val_loss: 0.0446 - val_accuracy: 0.9866\n",
      "Epoch 4/100\n",
      "938/938 [==============================] - 11s 12ms/step - loss: 0.0935 - accuracy: 0.9714 - val_loss: 0.0301 - val_accuracy: 0.9909\n",
      "Epoch 5/100\n",
      "938/938 [==============================] - 11s 12ms/step - loss: 0.0815 - accuracy: 0.9769 - val_loss: 0.0352 - val_accuracy: 0.9901\n",
      "Epoch 6/100\n",
      "938/938 [==============================] - 11s 12ms/step - loss: 0.0743 - accuracy: 0.9780 - val_loss: 0.0311 - val_accuracy: 0.9911\n",
      "Epoch 7/100\n",
      "938/938 [==============================] - 11s 12ms/step - loss: 0.0667 - accuracy: 0.9793 - val_loss: 0.0313 - val_accuracy: 0.9920\n",
      "Epoch 8/100\n",
      "938/938 [==============================] - 11s 12ms/step - loss: 0.0652 - accuracy: 0.9804 - val_loss: 0.0257 - val_accuracy: 0.9936\n",
      "Epoch 9/100\n",
      "938/938 [==============================] - 12s 13ms/step - loss: 0.0605 - accuracy: 0.9829 - val_loss: 0.0271 - val_accuracy: 0.9928\n",
      "Epoch 10/100\n",
      "938/938 [==============================] - 11s 12ms/step - loss: 0.0535 - accuracy: 0.9842 - val_loss: 0.0323 - val_accuracy: 0.9912\n",
      "Epoch 11/100\n",
      "938/938 [==============================] - 11s 12ms/step - loss: 0.0558 - accuracy: 0.9835 - val_loss: 0.0244 - val_accuracy: 0.9937\n",
      "Epoch 12/100\n",
      "938/938 [==============================] - 11s 12ms/step - loss: 0.0555 - accuracy: 0.9837 - val_loss: 0.0308 - val_accuracy: 0.9904\n",
      "Epoch 13/100\n",
      "938/938 [==============================] - 12s 13ms/step - loss: 0.0516 - accuracy: 0.9841 - val_loss: 0.0243 - val_accuracy: 0.9934\n",
      "Epoch 14/100\n",
      "938/938 [==============================] - 11s 12ms/step - loss: 0.0480 - accuracy: 0.9856 - val_loss: 0.0249 - val_accuracy: 0.9934\n",
      "Epoch 15/100\n",
      "938/938 [==============================] - 11s 12ms/step - loss: 0.0490 - accuracy: 0.9853 - val_loss: 0.0278 - val_accuracy: 0.9928\n",
      "Epoch 16/100\n",
      "938/938 [==============================] - 11s 12ms/step - loss: 0.0520 - accuracy: 0.9849 - val_loss: 0.0239 - val_accuracy: 0.9934\n",
      "Epoch 17/100\n",
      "938/938 [==============================] - 11s 12ms/step - loss: 0.0459 - accuracy: 0.9865 - val_loss: 0.0245 - val_accuracy: 0.9942\n",
      "Epoch 18/100\n",
      "938/938 [==============================] - 11s 12ms/step - loss: 0.0473 - accuracy: 0.9857 - val_loss: 0.0228 - val_accuracy: 0.9943\n",
      "Epoch 19/100\n",
      "938/938 [==============================] - 11s 12ms/step - loss: 0.0448 - accuracy: 0.9867 - val_loss: 0.0281 - val_accuracy: 0.9931\n",
      "Epoch 20/100\n",
      "938/938 [==============================] - 11s 12ms/step - loss: 0.0477 - accuracy: 0.9861 - val_loss: 0.0237 - val_accuracy: 0.9934\n",
      "Epoch 21/100\n",
      "938/938 [==============================] - 12s 12ms/step - loss: 0.0438 - accuracy: 0.9868 - val_loss: 0.0232 - val_accuracy: 0.9939\n",
      "Epoch 22/100\n",
      "938/938 [==============================] - 12s 13ms/step - loss: 0.0403 - accuracy: 0.9873 - val_loss: 0.0304 - val_accuracy: 0.9927\n",
      "Epoch 23/100\n",
      "938/938 [==============================] - 11s 12ms/step - loss: 0.0445 - accuracy: 0.9869 - val_loss: 0.0235 - val_accuracy: 0.9952\n",
      "Epoch 00023: early stopping\n"
     ]
    }
   ],
   "source": [
    "# Fit the model\n",
    "history = model.fit_generator(datagen.flow(X_train,Y_train, batch_size=batch_size),\n",
    "                              epochs = epochs, validation_data = (X_test,Y_test),\n",
    "                              verbose = 1, callbacks=[earlystopper])"
   ]
  },
  {
   "cell_type": "code",
   "execution_count": 126,
   "metadata": {},
   "outputs": [
    {
     "data": {
      "image/png": "[encoded data removed]",
      "text/plain": [
       "<Figure size 432x288 with 1 Axes>"
      ]
     },
     "metadata": {
      "needs_background": "light"
     },
     "output_type": "display_data"
    }
   ],
   "source": [
    "plt.plot(history.history['loss'])\n",
    "plt.plot(history.history['accuracy'])\n",
    "plt.title('model loss')\n",
    "plt.ylabel('loss')\n",
    "plt.xlabel('epoch')\n",
    "plt.legend(['train', 'test'], loc='upper right');"
   ]
  },
  {
   "cell_type": "code",
   "execution_count": 127,
   "metadata": {},
   "outputs": [
    {
     "data": {
      "image/png": "[encoded data removed]",
      "text/plain": [
       "<Figure size 432x288 with 1 Axes>"
      ]
     },
     "metadata": {
      "needs_background": "light"
     },
     "output_type": "display_data"
    }
   ],
   "source": [
    "dink = [0, 0, 0, 0, 0, 0, 0, 0, 0, 2, 0, 4, 0, 0, 3, 0, 0, 0, 0, 0, 0, 0, 0, 0, 0, 0, 0, 0, 0, 0, 0, 0, 0, 0, 0, 0, 4, 0, 0, 0, 0, 5, 0, 0, 0, 0, 0, 0, 0, 0, 0, 0, 0, 0, 0, 0, 0, 0, 0, 0, 0, 0, 0, 0, 0, 3, 0, 0, 2, 0, 0, 6, 0, 0, 0, 0, 0, 0, 0, 0, 0, 0, 0, 0, 0, 0, 0, 0, 0, 0, 0, 0, 0, 0, 3, 0, 2, 1, 1, 0, 0, 0, 0, 0, 0, 0, 0, 0, 0, 0, 0, 0, 0, 0, 0, 0, 0, 0, 0, 0, 4, 0, 0, 0, 0, 0, 0, 2, 0, 0, 0, 0, 0, 0, 0, 0, 0, 0, 0, 0, 0, 0, 0, 0, 0, 0, 0, 0, 0, 0, 1, 1, 0, 3, 2, 0, 0, 0, 0, 0, 0, 0, 0, 0, 0, 0, 0, 0, 0, 0, 0, 0, 0, 0, 0, 0, 1, 3, 62, 117, 88, 0, 0, 0, 0, 0, 0, 0, 0, 0, 0, 0, 0, 0, 0, 0, 0, 0, 0, 0, 0, 0, 0, 0, 1, 143, 255, 161, 254, 197, 1, 0, 0, 0, 0, 0, 0, 0, 0, 0, 0, 0, 0, 0, 0, 0, 0, 0, 0, 0, 0, 0, 2, 254, 41, 1, 0, 255, 40, 0, 0, 0, 0, 0, 0, 0, 0, 0, 0, 0, 0, 0, 0, 0, 0, 0, 0, 0, 0, 0, 0, 113, 253, 42, 0, 168, 114, 1, 0, 0, 0, 0, 0, 0, 0, 0, 0, 0, 0, 0, 0, 0, 0, 0, 0, 0, 0, 0, 3, 0, 96, 255, 49, 167, 110, 0, 0, 0, 0, 0, 0, 0, 0, 0, 0, 0, 0, 0, 0, 0, 0, 0, 0, 0, 0, 0, 0, 3, 0, 10, 1, 247, 59, 0, 0, 0, 0, 0, 0, 0, 0, 0, 0, 0, 0, 0, 0, 0, 0, 0, 0, 0, 0, 0, 0, 0, 1, 5, 15, 249, 2, 3, 0, 0, 0, 0, 0, 0, 0, 0, 0, 0, 0, 0, 0, 0, 0, 0, 0, 0, 0, 0, 1, 3, 1, 0, 173, 153, 0, 0, 0, 0, 0, 0, 0, 0, 0, 0, 0, 0, 0, 0, 0, 0, 0, 0, 0, 0, 0, 0, 0, 1, 0, 4, 253, 3, 0, 1, 0, 0, 0, 0, 0, 0, 0, 0, 0, 0, 0, 0, 0, 0, 0, 0, 0, 0, 0, 0, 0, 0, 1, 239, 159, 0, 3, 0, 0, 0, 0, 0, 0, 0, 0, 0, 0, 0, 0, 0, 0, 5, 0, 1, 0, 2, 0, 2, 0, 2, 124, 232, 0, 1, 0, 0, 0, 0, 0, 0, 0, 0, 0, 0, 0, 0, 0, 0, 2, 0, 2, 0, 3, 0, 0, 0, 5, 32, 255, 6, 0, 1, 0, 3, 0, 0, 0, 0, 0, 0, 0, 0, 0, 0, 0, 0, 0, 1, 0, 1, 0, 2, 0, 1, 0, 253, 60, 3, 0, 0, 6, 0, 0, 0, 0, 0, 0, 0, 0, 0, 0, 0, 0, 0, 0, 2, 2, 0, 0, 0, 3, 0, 197, 148, 6, 0, 3, 123, 9, 3, 0, 0, 0, 0, 0, 0, 0, 0, 0, 0, 0, 0, 2, 1, 0, 0, 1, 6, 30, 255, 252, 255, 178, 171, 247, 255, 3, 0, 0, 0, 0, 0, 0, 0, 0, 0, 0, 0, 0, 0, 0, 1, 0, 0, 5, 0, 176, 247, 0, 16, 114, 113, 72, 0, 3, 0, 0, 0, 0, 0, 0, 0, 0, 0, 0, 0, 0, 0, 0, 0, 1, 0, 0, 3, 1, 0, 0, 2, 0, 0, 6, 0, 0, 3, 0, 0, 0, 0, 0, 0, 0, 0, 0, 0, 0, 0, 0, 0, 0, 1, 0, 0, 0, 0, 0, 0, 0, 2, 0, 2, 0, 0, 0, 0, 0, 0, 0, 0, 0, 0, 0, 0, 0, 0, 0, 0, 0, 0, 0, 0, 0, 0, 0, 0, 0, 0, 0, 0, 0, 0, 0, 0, 0, 0, 0, 0, 0, 0, 0, 0, 0, 0, 0, 0, 0, 0, 0, 0, 0, 0, 0, 0, 0, 0, 0, 0, 0, 0, 0, 0, 0, 0, 0, 0, 0, 0, 0, 0, 0, 0, 0, 0, 0, 0, 0, 0, 0, 0, 0, 0, 0, 0, 0, 0, 0, 0, 0, 0, 0, 0, 0, 0, 0, 0, 0, 0, 0, 0, 0, 0, 0, 0, 0, 0, 0, 0, 0, 0, 0, 0, 0, 0, 0, 0, 0, 0, 0, 0, 0, 0, 0, 0, 0, 0, 0, 0]\n",
    "dink = np.array(dink)\n",
    "dink = dink / 255.0\n",
    "g = plt.imshow(dink.reshape(28,28,1), cmap=\"gray\")\n",
    "dink = dink.reshape(-1, 28, 28, 1)"
   ]
  },
  {
   "cell_type": "code",
   "execution_count": 128,
   "metadata": {},
   "outputs": [
    {
     "name": "stdout",
     "output_type": "stream",
     "text": [
      "(1, 28, 28, 1)\n"
     ]
    }
   ],
   "source": [
    "print(dink.shape)"
   ]
  },
  {
   "cell_type": "code",
   "execution_count": 129,
   "metadata": {},
   "outputs": [
    {
     "name": "stdout",
     "output_type": "stream",
     "text": [
      "[1.8796598e-04 1.7302608e-01 7.6626807e-01 3.3009953e-03 2.7456491e-03\n",
      " 1.3313476e-04 6.5609420e-05 1.6499784e-02 1.7842520e-02 1.9930212e-02]\n",
      "0 has prob of 0.0\n",
      "1 has prob of 0.17000000178813934\n",
      "2 has prob of 0.7699999809265137\n",
      "3 has prob of 0.0\n",
      "4 has prob of 0.0\n",
      "5 has prob of 0.0\n",
      "6 has prob of 0.0\n",
      "7 has prob of 0.019999999552965164\n",
      "8 has prob of 0.019999999552965164\n",
      "9 has prob of 0.019999999552965164\n",
      "Closest number is 2\n"
     ]
    }
   ],
   "source": [
    "# predict results\n",
    "results = model.predict(dink)\n",
    "print(results[0])\n",
    "for i in results[0]:\n",
    "    print(f\"{np.where(results[0] == i)[0][0]} has prob of {round(i,2)}\")\n",
    "\n",
    "# select the indix with the maximum probability\n",
    "results = np.argmax(results,axis = 1)\n",
    "print(f\"Closest number is {results[0]}\")"
   ]
  },
  {
   "cell_type": "code",
   "execution_count": 130,
   "metadata": {},
   "outputs": [
    {
     "name": "stdout",
     "output_type": "stream",
     "text": [
      "keras2onnx version is 1.8.0\n"
     ]
    }
   ],
   "source": [
    "# KERAS MODEL OPSLAAN\n",
    "\n",
    "import keras2onnx\n",
    "print(\"keras2onnx version is \"+keras2onnx.__version__)"
   ]
  },
  {
   "cell_type": "code",
   "execution_count": 131,
   "metadata": {},
   "outputs": [
    {
     "name": "stderr",
     "output_type": "stream",
     "text": [
      "tf executing eager_mode: True\n",
      "tf.keras model eager_mode: False\n",
      "Processing a keras layer - (mnist_output: <class 'tensorflow.python.keras.layers.core.Dense'>)\n",
      "\toutput: mnist_output/Softmax:0\n",
      "\tinput : dropout_5/cond/Identity:0\n",
      "Processing a keras layer - (dropout_5: <class 'tensorflow.python.keras.layers.core.Dropout'>)\n",
      "\toutput: dropout_5/cond/Identity:0\n",
      "\tinput : dense_2/Relu:0\n",
      "Processing a keras layer - (dense_2: <class 'tensorflow.python.keras.layers.core.Dense'>)\n",
      "\toutput: dense_2/Relu:0\n",
      "\tinput : flatten_1/Reshape:0\n",
      "Processing a keras layer - (flatten_1: <class 'tensorflow.python.keras.layers.core.Flatten'>)\n",
      "\toutput: flatten_1/Reshape:0\n",
      "\tinput : dropout_4/cond/Identity:0\n",
      "Processing a keras layer - (dropout_4: <class 'tensorflow.python.keras.layers.core.Dropout'>)\n",
      "\toutput: dropout_4/cond/Identity:0\n",
      "\tinput : max_pooling2d_3/MaxPool:0\n",
      "Processing a keras layer - (max_pooling2d_3: <class 'tensorflow.python.keras.layers.pooling.MaxPooling2D'>)\n",
      "\toutput: max_pooling2d_3/MaxPool:0\n",
      "\tinput : conv2d_8/Relu:0\n",
      "Processing a keras layer - (conv2d_8: <class 'tensorflow.python.keras.layers.convolutional.Conv2D'>)\n",
      "\toutput: conv2d_8/Relu:0\n",
      "\tinput : conv2d_7/Relu:0\n",
      "Processing a keras layer - (conv2d_7: <class 'tensorflow.python.keras.layers.convolutional.Conv2D'>)\n",
      "\toutput: conv2d_7/Relu:0\n",
      "\tinput : dropout_3/cond/Identity:0\n",
      "Processing a keras layer - (dropout_3: <class 'tensorflow.python.keras.layers.core.Dropout'>)\n",
      "\toutput: dropout_3/cond/Identity:0\n",
      "\tinput : max_pooling2d_2/MaxPool:0\n",
      "Processing a keras layer - (max_pooling2d_2: <class 'tensorflow.python.keras.layers.pooling.MaxPooling2D'>)\n",
      "\toutput: max_pooling2d_2/MaxPool:0\n",
      "\tinput : conv2d_6/Relu:0\n",
      "Processing a keras layer - (conv2d_6: <class 'tensorflow.python.keras.layers.convolutional.Conv2D'>)\n",
      "\toutput: conv2d_6/Relu:0\n",
      "\tinput : mnist_input/Relu:0\n",
      "Processing a keras layer - (mnist_input: <class 'tensorflow.python.keras.layers.convolutional.Conv2D'>)\n",
      "\toutput: mnist_input/Relu:0\n",
      "\tinput : mnist_input_input:0\n",
      "var: mnist_input_input\n",
      "var: mnist_input_input:0\n",
      "var: mnist_input_input:01\n",
      "var: mnist_input/Relu:0\n",
      "var: conv2d_6/Relu:0\n",
      "var: max_pooling2d_2/MaxPool:0\n",
      "var: dropout_3/cond/Identity:0\n",
      "var: conv2d_7/Relu:0\n",
      "var: conv2d_8/Relu:0\n",
      "var: max_pooling2d_3/MaxPool:0\n",
      "var: dropout_4/cond/Identity:0\n",
      "var: flatten_1/Reshape:0\n",
      "var: dense_2/Relu:0\n",
      "var: dropout_5/cond/Identity:0\n",
      "var: mnist_output/Softmax:01\n",
      "var: mnist_output/Softmax:0\n",
      "var: mnist_output\n",
      "Converting the operator (Identity): Identity\n",
      "Converting the operator (Identity1): Identity\n",
      "Converting the operator (Identity2): Identity\n",
      "Converting the operator (mnist_output): <class 'tensorflow.python.keras.layers.core.Dense'>\n",
      "Converting the operator (dropout_5): <class 'tensorflow.python.keras.layers.core.Dropout'>\n",
      "Converting the operator (keras_learning_phase/input): Const\n",
      "Converting the operator (dense_2): <class 'tensorflow.python.keras.layers.core.Dense'>\n"
     ]
    },
    {
     "name": "stdout",
     "output_type": "stream",
     "text": [
      "Model: \"mnist_model\"\n",
      "_________________________________________________________________\n",
      "Layer (type)                 Output Shape              Param #   \n",
      "=================================================================\n",
      "mnist_input (Conv2D)         (None, 28, 28, 32)        832       \n",
      "_________________________________________________________________\n",
      "conv2d_6 (Conv2D)            (None, 28, 28, 32)        25632     \n",
      "_________________________________________________________________\n",
      "max_pooling2d_2 (MaxPooling2 (None, 14, 14, 32)        0         \n",
      "_________________________________________________________________\n",
      "dropout_3 (Dropout)          (None, 14, 14, 32)        0         \n",
      "_________________________________________________________________\n",
      "conv2d_7 (Conv2D)            (None, 14, 14, 64)        18496     \n",
      "_________________________________________________________________\n",
      "conv2d_8 (Conv2D)            (None, 14, 14, 64)        36928     \n",
      "_________________________________________________________________\n",
      "max_pooling2d_3 (MaxPooling2 (None, 7, 7, 64)          0         \n",
      "_________________________________________________________________\n",
      "dropout_4 (Dropout)          (None, 7, 7, 64)          0         \n",
      "_________________________________________________________________\n",
      "flatten_1 (Flatten)          (None, 3136)              0         \n",
      "_________________________________________________________________\n",
      "dense_2 (Dense)              (None, 256)               803072    \n",
      "_________________________________________________________________\n",
      "dropout_5 (Dropout)          (None, 256)               0         \n",
      "_________________________________________________________________\n",
      "mnist_output (Dense)         (None, 10)                2570      \n",
      "=================================================================\n",
      "Total params: 887,530\n",
      "Trainable params: 887,530\n",
      "Non-trainable params: 0\n",
      "_________________________________________________________________\n",
      "None\n"
     ]
    },
    {
     "name": "stderr",
     "output_type": "stream",
     "text": [
      "Converting the operator (flatten_1): <class 'tensorflow.python.keras.layers.core.Flatten'>\n",
      "Converting the operator (flatten_1/Const): Const\n",
      "Converting the operator (dropout_4): <class 'tensorflow.python.keras.layers.core.Dropout'>\n",
      "Converting the operator (max_pooling2d_3): <class 'tensorflow.python.keras.layers.pooling.MaxPooling2D'>\n",
      "Converting the operator (conv2d_8): <class 'tensorflow.python.keras.layers.convolutional.Conv2D'>\n",
      "Converting the operator (conv2d_7): <class 'tensorflow.python.keras.layers.convolutional.Conv2D'>\n",
      "Converting the operator (dropout_3): <class 'tensorflow.python.keras.layers.core.Dropout'>\n",
      "Converting the operator (max_pooling2d_2): <class 'tensorflow.python.keras.layers.pooling.MaxPooling2D'>\n",
      "Converting the operator (conv2d_6): <class 'tensorflow.python.keras.layers.convolutional.Conv2D'>\n",
      "Converting the operator (mnist_input): <class 'tensorflow.python.keras.layers.convolutional.Conv2D'>\n",
      "Converting the operator (Identity3): Identity\n"
     ]
    }
   ],
   "source": [
    "# convert to onnx model\n",
    "onnx_model = keras2onnx.convert_keras(model, 'mnist-onnx-v2', debug_mode=1)\n",
    "output_model_path = \"./mnist-onnx-v2.onnx\"\n",
    "# and save the model in ONNX format\n",
    "keras2onnx.save_model(onnx_model, output_model_path)"
   ]
  },
  {
   "cell_type": "code",
   "execution_count": 132,
   "metadata": {},
   "outputs": [
    {
     "name": "stdout",
     "output_type": "stream",
     "text": [
      "Tensor(\"mnist_input_input:0\", shape=(None, 28, 28, 1), dtype=float32)\n",
      "mnist_output/Softmax:0\n"
     ]
    }
   ],
   "source": [
    "print(model.inputs[0])\n",
    "print(model.output.name)"
   ]
  },
  {
   "cell_type": "code",
   "execution_count": 134,
   "metadata": {},
   "outputs": [],
   "source": [
    "from sklearn.metrics import confusion_matrix, accuracy_score, classification_report"
   ]
  },
  {
   "cell_type": "code",
   "execution_count": 140,
   "metadata": {},
   "outputs": [
    {
     "name": "stdout",
     "output_type": "stream",
     "text": [
      "Predict the test set\n",
      "              precision    recall  f1-score   support\n",
      "\n",
      "           0       1.00      0.99      1.00      1195\n",
      "           1       1.00      1.00      1.00      1352\n",
      "           2       1.00      1.00      1.00      1157\n",
      "           3       1.00      1.00      1.00      1258\n",
      "           4       0.99      0.99      0.99      1140\n",
      "           5       0.99      1.00      0.99      1076\n",
      "           6       0.99      1.00      0.99      1167\n",
      "           7       1.00      1.00      1.00      1268\n",
      "           8       0.99      1.00      0.99      1174\n",
      "           9       0.99      0.99      0.99      1213\n",
      "\n",
      "    accuracy                           1.00     12000\n",
      "   macro avg       1.00      1.00      1.00     12000\n",
      "weighted avg       1.00      1.00      1.00     12000\n",
      "\n",
      "[[1187    0    0    1    1    0    6    0    0    0]\n",
      " [   0 1349    0    0    0    0    1    2    0    0]\n",
      " [   1    0 1152    2    0    0    0    1    1    0]\n",
      " [   0    0    0 1254    0    3    0    0    0    1]\n",
      " [   0    1    0    0 1133    0    1    0    1    4]\n",
      " [   0    0    0    1    0 1073    1    0    1    0]\n",
      " [   1    0    0    0    0    3 1162    0    1    0]\n",
      " [   0    0    2    0    1    0    0 1263    1    1]\n",
      " [   0    0    1    0    0    0    1    0 1169    3]\n",
      " [   0    0    0    2    4    3    0    2    2 1200]]\n",
      "99.51666666666667\n"
     ]
    }
   ],
   "source": [
    "print('Predict the test set')\n",
    "predict = model.predict(X_test, batch_size=batch_size)\n",
    "predict = np.argmax(predict,axis=1)\n",
    "class_report = classification_report(Y_test.argmax(axis=1),predict,target_names=[str(i) for i in range(10)])\n",
    "print(class_report)\n",
    "#run.log(\"Classification report\", class_report)\n",
    "\n",
    "cf = confusion_matrix(Y_test.argmax(axis=1), predict)\n",
    "#run.log(\"Confusion Matrix\", cf)\n",
    "\n",
    "print(cf)\n",
    "acc = accuracy_score(Y_test.argmax(axis=1), predict) * 100\n",
    "print(acc)"
   ]
  },
  {
   "cell_type": "code",
   "execution_count": null,
   "metadata": {},
   "outputs": [],
   "source": []
  }
 ],
 "metadata": {
  "kernelspec": {
   "display_name": "Python 3",
   "language": "python",
   "name": "python3"
  },
  "language_info": {
   "codemirror_mode": {
    "name": "ipython",
    "version": 3
   },
   "file_extension": ".py",
   "mimetype": "text/x-python",
   "name": "python",
   "nbconvert_exporter": "python",
   "pygments_lexer": "ipython3",
   "version": "3.8.0"
  }
 },
 "nbformat": 4,
 "nbformat_minor": 4
}
